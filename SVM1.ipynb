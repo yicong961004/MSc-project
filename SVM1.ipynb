{
 "cells": [
  {
   "cell_type": "code",
   "execution_count": null,
   "id": "35f88f26",
   "metadata": {},
   "outputs": [],
   "source": [
    "BreastCancer <- read.csv(\"wisc_bc_data.csv\", stringsAsFactors = FALSE)\n",
    "summary(BreastCancer)[1:4]\n",
    "\n",
    "str(BreastCancer)\n",
    "\n",
    "BreastCancer[1:5, 1:5]"
   ]
  },
  {
   "cell_type": "markdown",
   "id": "433419fc",
   "metadata": {
    "papermill": {
     "duration": 0.018913,
     "end_time": "2020-08-22T05:07:59.341406",
     "exception": false,
     "start_time": "2020-08-22T05:07:59.322493",
     "status": "completed"
    },
    "tags": []
   },
   "source": [
    "## Data Preparation\n",
    "\n"
   ]
  },
  {
   "cell_type": "markdown",
   "id": "ce4b8ffb",
   "metadata": {
    "papermill": {
     "duration": 0.018913,
     "end_time": "2020-08-22T05:07:59.341406",
     "exception": false,
     "start_time": "2020-08-22T05:07:59.322493",
     "status": "completed"
    },
    "tags": []
   },
   "source": [
    "**To see the variables and the columns\n",
    "**\n"
   ]
  },
  {
   "cell_type": "code",
   "execution_count": null,
   "id": "8ed5a97e",
   "metadata": {},
   "outputs": [],
   "source": [
    "#To see the variables and the columns\n",
    "dim(BreastCancer)"
   ]
  },
  {
   "cell_type": "code",
   "execution_count": null,
   "id": "a54c40da",
   "metadata": {},
   "outputs": [],
   "source": [
    "#Check for missing data\n",
    "sum(is.na(data))"
   ]
  },
  {
   "cell_type": "code",
   "execution_count": null,
   "id": "1952a47d",
   "metadata": {},
   "outputs": [],
   "source": [
    "table(BreastCancer$diagnosis)"
   ]
  },
  {
   "cell_type": "markdown",
   "id": "bd00a4a1",
   "metadata": {
    "papermill": {
     "duration": 0.018913,
     "end_time": "2020-08-22T05:07:59.341406",
     "exception": false,
     "start_time": "2020-08-22T05:07:59.322493",
     "status": "completed"
    },
    "tags": []
   },
   "source": [
    "Test the Benign and Malignant\n",
    "\n"
   ]
  },
  {
   "cell_type": "code",
   "execution_count": null,
   "id": "8dfe46d4",
   "metadata": {},
   "outputs": [],
   "source": [
    "library(reshape2)\n",
    "bc <- BreastCancer[, -1]\n",
    "bc.melt <- melt(bc, id.var = \"diagnosis\")\n",
    "head(bc.melt)\n",
    "library(reshape2)\n",
    "bc <- BreastCancer[, -1]\n",
    "bc.melt <- melt(bc, id.var = \"diagnosis\")\n",
    "head(bc.melt)\n",
    "\n",
    "ggplot(data = bc.melt, aes(x = diagnosis, y = log(value + 1), fill = diagnosis)) +\n",
    "    geom_boxplot() + theme_bw() + facet_wrap(~variable, ncol = 8)\n",
    "\n"
   ]
  },
  {
   "cell_type": "code",
   "execution_count": null,
   "id": "65b65a85",
   "metadata": {},
   "outputs": [],
   "source": [
    "library(tidyverse)\n",
    "data <- select(BreastCancer, -1) %>Test the Benign and Malignant\n",
    "\n",
    "%\n",
    "    mutate_at(\"diagnosis\", as.factor)\n",
    "data[1:5, 1:5]\n",
    "\n",
    "corrplot::corrplot(cor(data[, -1]))"
   ]
  },
  {
   "cell_type": "markdown",
   "id": "ed8f66b1",
   "metadata": {
    "papermill": {
     "duration": 0.021654,
     "end_time": "2020-08-22T05:08:07.778652",
     "exception": false,
     "start_time": "2020-08-22T05:08:07.756998",
     "status": "completed"
    },
    "tags": []
   },
   "source": [
    "### Data for training and testing\n",
    "\n"
   ]
  },
  {
   "cell_type": "markdown",
   "id": "e725354a",
   "metadata": {
    "papermill": {
     "duration": 0.018913,
     "end_time": "2020-08-22T05:07:59.341406",
     "exception": false,
     "start_time": "2020-08-22T05:07:59.322493",
     "status": "completed"
    },
    "tags": []
   },
   "source": [
    "Train data and test data (split data 7:3)\n",
    "\n"
   ]
  },
  {
   "cell_type": "code",
   "execution_count": null,
   "id": "0990bd25",
   "metadata": {},
   "outputs": [],
   "source": [
    "library(sampling)\n",
    "set.seed(123)\n",
    "train_id <- strata(data, \"diagnosis\", size = rev(round(table(data$diagnosis) * 0.7)))$ID_unit\n",
    "train_data <- data[train_id, ]\n",
    "test_data <- data[-train_id, ]Test the Benign and Malignant\n",
    "\n"
   ]
  },
  {
   "cell_type": "markdown",
   "id": "0c787a75",
   "metadata": {
    "papermill": {
     "duration": 0.018913,
     "end_time": "2020-08-22T05:07:59.341406",
     "exception": false,
     "start_time": "2020-08-22T05:07:59.322493",
     "status": "completed"
    },
    "tags": []
   },
   "source": [
    "Check that the data is split to ensure the same proportion of positive and negative samples in the training and test data\n"
   ]
  },
  {
   "cell_type": "code",
   "execution_count": null,
   "id": "df6baa71",
   "metadata": {},
   "outputs": [],
   "source": [
    "# View the proportion of positive and negative samples in training and test data\n",
    "prop.table(table(train_data$diagnosis))\n",
    "\n",
    "prop.table(table(test_data$diagnosis))"
   ]
  },
  {
   "cell_type": "markdown",
   "id": "2a360822",
   "metadata": {
    "papermill": {
     "duration": 0.018913,
     "end_time": "2020-08-22T05:07:59.341406",
     "exception": false,
     "start_time": "2020-08-22T05:07:59.322493",
     "status": "completed"
    },
    "tags": []
   },
   "source": [
    "Train the SVM Linear Kernel Function"
   ]
  },
  {
   "cell_type": "code",
   "execution_count": null,
   "id": "865ffbdf",
   "metadata": {},
   "outputs": [],
   "source": [
    "set.seed(123)\n",
    "linear.tune <- tune.svm(diagnosis ~ ., data = train_data, kernel = \"linear\", cost = c(0.001,\n",
    "    0.01, 0.1, 1, 5, 10))\n",
    "summary(linear.tune)\n",
    "\n",
    "best.linear <- linear.tune$best.model\n",
    "tune.test <- predict(best.linear, newdata = test_data)\n",
    "table(tune.test, test_data$diagnosis)\n",
    "\n",
    "confusionMatrix(tune.test, test_data$diagnosis, positive = \"B\")\n",
    "\n",
    "set.seed(123)\n",
    "rfeCNTL <- rfeControl(functions = lrFuncs, method = \"cv\", number = 10)\n",
    "svmLinear <- rfe(train_data[, -1], train_data[, 1], sizes = c(7, 6, 5, 4), rfeControl = rfeCNTL,\n",
    "    method = \"svmLinear\")\n",
    "svmLinear\n",
    "\n",
    "vec <- names(coefficients(svmLinear$fit))[-1]\n",
    "var <- paste(vec, collapse = \"+\")\n",
    "fun <- as.formula(paste(\"diagnosis\", \"~\", var))\n",
    "svm <- svm(fun, data = train_data, kernel = \"linear\")\n",
    "Linear.predict = predict(svm, newdata = test_data[, vec])\n",
    "table(Linear.predict, test_data$diagnosis)\n",
    "\n",
    "confusionMatrix(Linear.predict, test_data$diagnosis, positive = \"B\")\n",
    "\n"
   ]
  },
  {
   "cell_type": "markdown",
   "id": "d97709eb",
   "metadata": {
    "papermill": {
     "duration": 0.018913,
     "end_time": "2020-08-22T05:07:59.341406",
     "exception": false,
     "start_time": "2020-08-22T05:07:59.322493",
     "status": "completed"
    },
    "tags": []
   },
   "source": [
    "Train the SVM Polynomial Kernel Function"
   ]
  },
  {
   "cell_type": "code",
   "execution_count": null,
   "id": "bf6d1c5d",
   "metadata": {},
   "outputs": [],
   "source": [
    "set.seed(123)\n",
    "poly.tune <- tune.svm(diagnosis ~ ., data = train_data, kernel = \"polynomial\", degree = c(3,\n",
    "    4, 5), coef0 = c(0.1, 0.5, 1, 2, 3, 4))\n",
    "summary(poly.tune)\n",
    "\n",
    "best.poly <- poly.tune$best.model\n",
    "poly.test <- predict(best.poly, newdata = test_data)\n",
    "table(poly.test, test_data$diagnosis)\n",
    "\n",
    "confusionMatrix(poly.test, test_data$diagnosis, positive = \"B\")\n",
    "\n",
    "set.seed(123)\n",
    "svmPoly <- rfe(train_data[, -1], train_data[, 1], sizes = c(7, 6, 5, 4), rfeControl = rfeCNTL,\n",
    "    method = \"svmPoly\")\n",
    "svmPoly\n",
    "\n",
    "vec <- names(coefficients(svmPoly$fit))[-1]\n",
    "var <- paste(vec, collapse = \"+\")\n",
    "fun <- as.formula(paste(\"diagnosis\", \"~\", var))\n",
    "svm <- svm(fun, data = train_data, kernel = \"poly\")\n",
    "Poly.predict = predict(svm, newdata = test_data[, vec])\n",
    "table(Poly.predict, test_data$diagnosis)\n",
    "\n"
   ]
  },
  {
   "cell_type": "markdown",
   "id": "7e82af6f",
   "metadata": {
    "papermill": {
     "duration": 0.018913,
     "end_time": "2020-08-22T05:07:59.341406",
     "exception": false,
     "start_time": "2020-08-22T05:07:59.322493",
     "status": "completed"
    },
    "tags": []
   },
   "source": [
    "Train the SVM Radio Kernel Function"
   ]
  },
  {
   "cell_type": "code",
   "execution_count": null,
   "id": "c35ce3d1",
   "metadata": {},
   "outputs": [],
   "source": [
    "set.seed(123)\n",
    "rbf.tune <- tune.svm(diagnosis ~ .Train the SVM Poly model, data = train_data, kernel = \"radial\", gamma = c(0.1,\n",
    "    0.5, 1, 2, 3, 4))\n",
    "summary(rbf.tune)\n",
    "\n",
    "best.rbf <- rbf.tune$best.model\n",
    "rbf.test <- predict(best.rbf, newdata = test_data)\n",
    "table(rbf.test, test_data$diagnosis)\n",
    "\n",
    "confusionMatrix(rbf.test, test_data$diagnosis, positive = \"B\")\n",
    "\n",
    "set.seed(123)\n",
    "svmRadial <- rfe(train_data[, -1], train_data[, 1], sizes = c(7, 6, 5, 4), rfeControl = rfeCNTL,\n",
    "    method = \"svmRadial\")\n",
    "svmRadialTrain the SVM Poly model\n",
    "\n",
    "vec <- names(coefficients(svmRadial$fit))[-1]\n",
    "var <- paste(vec, collapse = \"+\")\n",
    "fun <- as.formula(paste(\"diagnosis\", \"~\", var))\n",
    "svm <- svm(fun, data = train_data, kernel = \"radial\")\n",
    "Radial.predict = predict(svm, newdata = test_data[, vec])\n",
    "table(Radial.predict, test_data$diagnosis)\n",
    "\n",
    "confusionMatrix(Radial.predict, test_data$diagnosis, positive = \"B\")\n"
   ]
  },
  {
   "cell_type": "markdown",
   "id": "43273704",
   "metadata": {
    "papermill": {
     "duration": 0.018913,
     "end_time": "2020-08-22T05:07:59.341406",
     "exception": false,
     "start_time": "2020-08-22T05:07:59.322493",
     "status": "completed"
    },
    "tags": []
   },
   "source": [
    "Train the SVM Sigmoid Kernel Function"
   ]
  },
  {
   "cell_type": "code",
   "execution_count": null,
   "id": "cd23379b",
   "metadata": {},
   "outputs": [],
   "source": [
    "set.seed(123)\n",
    "sigmoid.tune <- tune.svm(diagnosis ~ ., data = train_data, kernel = \"sigmoid\", gamma = c(0.1,\n",
    "    0.5, 1, 2, 3, 4), coef0 = c(0.1, 0.5, 1, 2, 3, 4))\n",
    "summary(sigmoid.tune)\n",
    "\n",
    "best.sigmoid <- sigmoid.tune$best.model\n",
    "sigmoid.test <- predict(best.sigmoid, newdata = test_data)\n",
    "table(sigmoid.test, test_data$diagnosis)\n",
    "\n",
    "confusionMatrix(sigmoid.test, test_data$diagnosis, positive = \"B\")\n",
    "\n",
    "set.seed(123)\n",
    "rfeCNTL <- rfeControl(functions = lrFuncs, method = \"cv\", number = 10)\n",
    "svmSigmoid <- rfe(train_data[, -1], train_data[, 1], sizes = c(7, 6, 5, 4), rfeControl = rfeCNTL,\n",
    "    method = \"svmSigmoid\")\n",
    "svmSigmoid\n",
    "\n",
    "vec <- names(coefficients(svmSigmoid$fit))[-1]\n",
    "var <- paste(vec, collapse = \"+\")\n",
    "fun <- as.formula(paste(\"diagnosis\", \"~\", var))\n",
    "svm <- svm(fun, data = train_data, kernel = \"sigmoid\")\n",
    "Sigmoid.predict = predict(svm, newdata = test_data[, vec])\n",
    "table(Sigmoid.predict, test_data$diagnosis)\n",
    "\n"
   ]
  }
 ],
 "metadata": {
  "kernelspec": {
   "display_name": "Python 3 (ipykernel)",
   "language": "python",
   "name": "python3"
  },
  "language_info": {
   "codemirror_mode": {
    "name": "ipython",
    "version": 3
   },
   "file_extension": ".py",
   "mimetype": "text/x-python",
   "name": "python",
   "nbconvert_exporter": "python",
   "pygments_lexer": "ipython3",
   "version": "3.8.12"
  }
 },
 "nbformat": 4,
 "nbformat_minor": 5
}
