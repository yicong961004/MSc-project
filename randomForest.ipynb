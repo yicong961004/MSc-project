{
 "cells": [
  {
   "cell_type": "code",
   "execution_count": null,
   "id": "35f88f26",
   "metadata": {},
   "outputs": [],
   "source": [
    "BreastCancer <- read.csv(\"wisc_bc_data.csv\", stringsAsFactors = FALSE)\n",
    "summary(BreastCancer)[1:4]\n",
    "\n",
    "str(BreastCancer)\n",
    "\n",
    "BreastCancer[1:5, 1:5]"
   ]
  },
  {
   "cell_type": "markdown",
   "id": "433419fc",
   "metadata": {
    "papermill": {
     "duration": 0.018913,
     "end_time": "2020-08-22T05:07:59.341406",
     "exception": false,
     "start_time": "2020-08-22T05:07:59.322493",
     "status": "completed"
    },
    "tags": []
   },
   "source": [
    "## Data Preparation\n",
    "\n"
   ]
  },
  {
   "cell_type": "markdown",
   "id": "ce4b8ffb",
   "metadata": {
    "papermill": {
     "duration": 0.018913,
     "end_time": "2020-08-22T05:07:59.341406",
     "exception": false,
     "start_time": "2020-08-22T05:07:59.322493",
     "status": "completed"
    },
    "tags": []
   },
   "source": [
    "**To see the variables and the columns\n",
    "**\n"
   ]
  },
  {
   "cell_type": "code",
   "execution_count": null,
   "id": "8ed5a97e",
   "metadata": {},
   "outputs": [],
   "source": [
    "#To see the variables and the columns\n",
    "dim(BreastCancer)"
   ]
  },
  {
   "cell_type": "code",
   "execution_count": null,
   "id": "a54c40da",
   "metadata": {},
   "outputs": [],
   "source": [
    "#Check for missing data\n",
    "sum(is.na(data))"
   ]
  },
  {
   "cell_type": "code",
   "execution_count": null,
   "id": "1952a47d",
   "metadata": {},
   "outputs": [],
   "source": [
    "table(BreastCancer$diagnosis)"
   ]
  },
  {
   "cell_type": "markdown",
   "id": "bd00a4a1",
   "metadata": {
    "papermill": {
     "duration": 0.018913,
     "end_time": "2020-08-22T05:07:59.341406",
     "exception": false,
     "start_time": "2020-08-22T05:07:59.322493",
     "status": "completed"
    },
    "tags": []
   },
   "source": [
    "Test the Benign and Malignant\n",
    "\n"
   ]
  },
  {
   "cell_type": "code",
   "execution_count": null,
   "id": "8dfe46d4",
   "metadata": {},
   "outputs": [],
   "source": [
    "library(reshape2)\n",
    "bc <- BreastCancer[, -1]\n",
    "bc.melt <- melt(bc, id.var = \"diagnosis\")\n",
    "head(bc.melt)\n",
    "library(reshape2)\n",
    "bc <- BreastCancer[, -1]\n",
    "bc.melt <- melt(bc, id.var = \"diagnosis\")\n",
    "head(bc.melt)\n",
    "\n",
    "ggplot(data = bc.melt, aes(x = diagnosis, y = log(value + 1), fill = diagnosis)) +\n",
    "    geom_boxplot() + theme_bw() + facet_wrap(~variable, ncol = 8)\n",
    "\n"
   ]
  },
  {
   "cell_type": "code",
   "execution_count": null,
   "id": "65b65a85",
   "metadata": {},
   "outputs": [],
   "source": [
    "library(tidyverse)\n",
    "data <- select(BreastCancer, -1) %>Test the Benign and Malignant\n",
    "\n",
    "%\n",
    "    mutate_at(\"diagnosis\", as.factor)\n",
    "data[1:5, 1:5]\n",
    "\n",
    "corrplot::corrplot(cor(data[, -1]))"
   ]
  },
  {
   "cell_type": "markdown",
   "id": "ed8f66b1",
   "metadata": {
    "papermill": {
     "duration": 0.021654,
     "end_time": "2020-08-22T05:08:07.778652",
     "exception": false,
     "start_time": "2020-08-22T05:08:07.756998",
     "status": "completed"
    },
    "tags": []
   },
   "source": [
    "### Data for training and testing\n",
    "\n"
   ]
  },
  {
   "cell_type": "markdown",
   "id": "e725354a",
   "metadata": {
    "papermill": {
     "duration": 0.018913,
     "end_time": "2020-08-22T05:07:59.341406",
     "exception": false,
     "start_time": "2020-08-22T05:07:59.322493",
     "status": "completed"
    },
    "tags": []
   },
   "source": [
    "Train data and test data (split data 7:3)\n",
    "\n"
   ]
  },
  {
   "cell_type": "code",
   "execution_count": null,
   "id": "0990bd25",
   "metadata": {},
   "outputs": [],
   "source": [
    "library(sampling)\n",
    "set.seed(123)\n",
    "train_id <- strata(data, \"diagnosis\", size = rev(round(table(data$diagnosis) * 0.7)))$ID_unit\n",
    "train_data <- data[train_id, ]\n",
    "test_data <- data[-train_id, ]Test the Benign and Malignant\n",
    "\n"
   ]
  },
  {
   "cell_type": "markdown",
   "id": "2a360822",
   "metadata": {
    "papermill": {
     "duration": 0.018913,
     "end_time": "2020-08-22T05:07:59.341406",
     "exception": false,
     "start_time": "2020-08-22T05:07:59.322493",
     "status": "completed"
    },
    "tags": []
   },
   "source": [
    "Train the randomForest model"
   ]
  },
  {
   "cell_type": "code",
   "execution_count": null,
   "id": "865ffbdf",
   "metadata": {},
   "outputs": [],
   "source": [
    "set.seed(123)\n",
    "rf.biop <- randomForest(diagnosis ~ ., data = train_data)\n",
    "rf.biop\n",
    "plot(rf.biop)\n"
   ]
  },
  {
   "cell_type": "code",
   "execution_count": null,
   "id": "bf6d1c5d",
   "metadata": {},
   "outputs": [],
   "source": [
    "set.seed(123)\n",
    "rf.biop.2 <- randomForest(diagnosis ~ ., data = train_data, ntree = 49)\n",
    "getTree(rf.biop, 1)\n",
    "rf.biop.2\n"
   ]
  },
  {
   "cell_type": "code",
   "execution_count": null,
   "id": "da0ad5e5",
   "metadata": {},
   "outputs": [],
   "source": [
    "which.min(rf.biop$err.rate[, 1])\n",
    "## [1] 49"
   ]
  },
  {
   "cell_type": "code",
   "execution_count": null,
   "id": "b9af0729",
   "metadata": {},
   "outputs": [],
   "source": [
    "library(caret)\n",
    "rf.biop.test <- predict(rf.biop.2, newdata = test_data, type = \"response\")\n",
    "table(rf.biop.test, test_data$diagnosis)\n",
    "confusionMatrix(rf.biop.test, test_data$diagnosis, positive = \"B\")\n",
    "## Confusion Matrix and Statistics\n",
    "varImpPlot(rf.biop.2)\n"
   ]
  },
  {
   "cell_type": "code",
   "execution_count": null,
   "id": "b2a0cfbe",
   "metadata": {},
   "outputs": [],
   "source": [
    "library(ROSE)\n",
    "roc.curve(rf.biop.test, test_data$diagnosis, main = \"ROC curve of randomForest\",\n",
    "    col = 2, lwd = 2, lty = 2)\n",
    "legend(\"bottomright\", \"AUC:0.957\", col = 2, lty = 1, lwd = 2, bty = \"n\")\n"
   ]
  }
 ],
 "metadata": {
  "kernelspec": {
   "display_name": "Python 3 (ipykernel)",
   "language": "python",
   "name": "python3"
  },
  "language_info": {
   "codemirror_mode": {
    "name": "ipython",
    "version": 3
   },
   "file_extension": ".py",
   "mimetype": "text/x-python",
   "name": "python",
   "nbconvert_exporter": "python",
   "pygments_lexer": "ipython3",
   "version": "3.8.12"
  }
 },
 "nbformat": 4,
 "nbformat_minor": 5
}
