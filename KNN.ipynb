{
 "cells": [
  {
   "cell_type": "code",
   "execution_count": null,
   "id": "35f88f26",
   "metadata": {},
   "outputs": [],
   "source": [
    "BreastCancer <- read.csv(\"wisc_bc_data.csv\", stringsAsFactors = FALSE)\n",
    "summary(BreastCancer)[1:4]\n",
    "\n",
    "str(BreastCancer)\n",
    "\n",
    "BreastCancer[1:5, 1:5]"
   ]
  },
  {
   "cell_type": "markdown",
   "id": "433419fc",
   "metadata": {
    "papermill": {
     "duration": 0.018913,
     "end_time": "2020-08-22T05:07:59.341406",
     "exception": false,
     "start_time": "2020-08-22T05:07:59.322493",
     "status": "completed"
    },
    "tags": []
   },
   "source": [
    "## Data Preparation\n",
    "\n"
   ]
  },
  {
   "cell_type": "markdown",
   "id": "ce4b8ffb",
   "metadata": {
    "papermill": {
     "duration": 0.018913,
     "end_time": "2020-08-22T05:07:59.341406",
     "exception": false,
     "start_time": "2020-08-22T05:07:59.322493",
     "status": "completed"
    },
    "tags": []
   },
   "source": [
    "**To see the variables and the columns\n",
    "**\n"
   ]
  },
  {
   "cell_type": "code",
   "execution_count": null,
   "id": "8ed5a97e",
   "metadata": {},
   "outputs": [],
   "source": [
    "#To see the variables and the columns\n",
    "dim(BreastCancer)"
   ]
  },
  {
   "cell_type": "code",
   "execution_count": null,
   "id": "a54c40da",
   "metadata": {},
   "outputs": [],
   "source": [
    "#Check for missing data\n",
    "sum(is.na(data))"
   ]
  },
  {
   "cell_type": "code",
   "execution_count": null,
   "id": "1952a47d",
   "metadata": {},
   "outputs": [],
   "source": [
    "table(BreastCancer$diagnosis)"
   ]
  },
  {
   "cell_type": "markdown",
   "id": "bd00a4a1",
   "metadata": {
    "papermill": {
     "duration": 0.018913,
     "end_time": "2020-08-22T05:07:59.341406",
     "exception": false,
     "start_time": "2020-08-22T05:07:59.322493",
     "status": "completed"
    },
    "tags": []
   },
   "source": [
    "Test the Benign and Malignant\n",
    "\n"
   ]
  },
  {
   "cell_type": "code",
   "execution_count": null,
   "id": "8dfe46d4",
   "metadata": {},
   "outputs": [],
   "source": [
    "library(reshape2)\n",
    "bc <- BreastCancer[, -1]\n",
    "bc.melt <- melt(bc, id.var = \"diagnosis\")\n",
    "head(bc.melt)\n",
    "library(reshape2)\n",
    "bc <- BreastCancer[, -1]\n",
    "bc.melt <- melt(bc, id.var = \"diagnosis\")\n",
    "head(bc.melt)\n",
    "\n",
    "ggplot(data = bc.melt, aes(x = diagnosis, y = log(value + 1), fill = diagnosis)) +\n",
    "    geom_boxplot() + theme_bw() + facet_wrap(~variable, ncol = 8)\n",
    "\n"
   ]
  },
  {
   "cell_type": "code",
   "execution_count": null,
   "id": "65b65a85",
   "metadata": {},
   "outputs": [],
   "source": [
    "library(tidyverse)\n",
    "data <- select(BreastCancer, -1) %>Test the Benign and Malignant\n",
    "\n",
    "%\n",
    "    mutate_at(\"diagnosis\", as.factor)\n",
    "data[1:5, 1:5]\n",
    "\n",
    "corrplot::corrplot(cor(data[, -1]))"
   ]
  },
  {
   "cell_type": "markdown",
   "id": "ed8f66b1",
   "metadata": {
    "papermill": {
     "duration": 0.021654,
     "end_time": "2020-08-22T05:08:07.778652",
     "exception": false,
     "start_time": "2020-08-22T05:08:07.756998",
     "status": "completed"
    },
    "tags": []
   },
   "source": [
    "### Data for training and testing\n",
    "\n"
   ]
  },
  {
   "cell_type": "markdown",
   "id": "e725354a",
   "metadata": {
    "papermill": {
     "duration": 0.018913,
     "end_time": "2020-08-22T05:07:59.341406",
     "exception": false,
     "start_time": "2020-08-22T05:07:59.322493",
     "status": "completed"
    },
    "tags": []
   },
   "source": [
    "Train data and test data (split data 7:3)\n",
    "\n"
   ]
  },
  {
   "cell_type": "code",
   "execution_count": null,
   "id": "0990bd25",
   "metadata": {},
   "outputs": [],
   "source": [
    "library(sampling)\n",
    "set.seed(123)\n",
    "train_id <- strata(data, \"diagnosis\", size = rev(round(table(data$diagnosis) * 0.7)))$ID_unit\n",
    "train_data <- data[train_id, ]\n",
    "test_data <- data[-train_id, ]Test the Benign and Malignant\n",
    "\n"
   ]
  },
  {
   "cell_type": "markdown",
   "id": "0c787a75",
   "metadata": {
    "papermill": {
     "duration": 0.018913,
     "end_time": "2020-08-22T05:07:59.341406",
     "exception": false,
     "start_time": "2020-08-22T05:07:59.322493",
     "status": "completed"
    },
    "tags": []
   },
   "source": [
    "Check that the data is split to ensure the same proportion of positive and negative samples in the training and test data\n"
   ]
  },
  {
   "cell_type": "code",
   "execution_count": null,
   "id": "df6baa71",
   "metadata": {},
   "outputs": [],
   "source": [
    "# View the proportion of positive and negative samples in training and test data\n",
    "prop.table(table(train_data$diagnosis))\n",
    "\n",
    "prop.table(table(test_data$diagnosis))"
   ]
  },
  {
   "cell_type": "markdown",
   "id": "2a360822",
   "metadata": {
    "papermill": {
     "duration": 0.018913,
     "end_time": "2020-08-22T05:07:59.341406",
     "exception": false,
     "start_time": "2020-08-22T05:07:59.322493",
     "status": "completed"
    },
    "tags": []
   },
   "source": [
    "Train the KNN model"
   ]
  },
  {
   "cell_type": "code",
   "execution_count": null,
   "id": "865ffbdf",
   "metadata": {},
   "outputs": [],
   "source": [
    "library(class)\n",
    "k = ceiling(sqrt(568))  \n",
    "k\n",
    "knn.pred = knn(train = train_data[, -1], test = test_data[, -1], cl = train_data$diagnosis,\n",
    "    k = k)"
   ]
  },
  {
   "cell_type": "code",
   "execution_count": null,
   "id": "bf6d1c5d",
   "metadata": {},
   "outputs": [],
   "source": [
    "library(caret)\n",
    "control <- trainControl(method = \"cv\", number = 10)\n",
    "grid1 <- expand.grid(.k = seq(2, 24, by = 1))\n",
    "model <- train(diagnosis ~ ., train_data, method = \"knn\", trControl = control, preProcess = c(\"center\",\n",
    "    \"scale\"), tuneLength = 5, tuneGrid = grid1)\n",
    "model\n"
   ]
  },
  {
   "cell_type": "markdown",
   "id": "d465c733",
   "metadata": {
    "papermill": {
     "duration": 0.018913,
     "end_time": "2020-08-22T05:07:59.341406",
     "exception": false,
     "start_time": "2020-08-22T05:07:59.322493",
     "status": "completed"
    },
    "tags": []
   },
   "source": [
    "Test the k value shown by chart"
   ]
  },
  {
   "cell_type": "code",
   "execution_count": null,
   "id": "b2a0cfbe",
   "metadata": {},
   "outputs": [],
   "source": [
    "plot(model$results$k, model$results$Accuracy, type = \"l\", xlab = \"K\", ylab = \"Accuracy\",\n",
    "    lwd = 2)\n",
    "points(model$results$k, model$results$Accuracy, col = \"red\", pch = 20, cex = 2)\n",
    "abline(v = 4, col = \"grey\", lwd = 1.5)Train data and test data (split data 7:3)\n",
    "\n",
    "Train the KNN model"
   ]
  }
 ],
 "metadata": {
  "kernelspec": {
   "display_name": "Python 3 (ipykernel)",
   "language": "python",
   "name": "python3"
  },
  "language_info": {
   "codemirror_mode": {
    "name": "ipython",
    "version": 3
   },
   "file_extension": ".py",
   "mimetype": "text/x-python",
   "name": "python",
   "nbconvert_exporter": "python",
   "pygments_lexer": "ipython3",
   "version": "3.8.12"
  }
 },
 "nbformat": 4,
 "nbformat_minor": 5
}
